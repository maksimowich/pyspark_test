{
 "cells": [
  {
   "cell_type": "code",
   "execution_count": 1,
   "id": "679916eb-1d87-4230-b57a-885ee8c08ed7",
   "metadata": {},
   "outputs": [],
   "source": [
    "import os\n",
    "import sys\n",
    "from pyspark.sql import SparkSession\n",
    "\n",
    "os.environ['SPARK_HOME'] = \"C:\\spark\\spark-3.5.1-bin-hadoop3\"\n",
    "os.environ['PYSPARK_PYTHON'] = sys.executable\n",
    "\n",
    "\n",
    "# Create a Spark session\n",
    "spark = SparkSession.builder \\\n",
    "                    .appName(\"example-app\") \\\n",
    "                    .getOrCreate()\n"
   ]
  },
  {
   "cell_type": "code",
   "execution_count": 3,
   "id": "363e108e-112a-4068-990c-9e49826ca26b",
   "metadata": {},
   "outputs": [
    {
     "name": "stdout",
     "output_type": "stream",
     "text": [
      "+------------+-------------+\n",
      "|product_name|category_name|\n",
      "+------------+-------------+\n",
      "|    Product2|    Category1|\n",
      "|    Product1|    Category1|\n",
      "|    Product2|    Category2|\n",
      "+------------+-------------+\n",
      "\n",
      "+------------+\n",
      "|product_name|\n",
      "+------------+\n",
      "|    Product3|\n",
      "+------------+\n",
      "\n"
     ]
    }
   ],
   "source": [
    "from pyspark.sql import SparkSession\n",
    "from pyspark.sql.functions import col, lit\n",
    "\n",
    "def get_product_category_pairs_and_orphan_products(products_df, categories_df, product_categories_df):\n",
    "    product_category_pairs = product_categories_df.join(\n",
    "        products_df, product_categories_df.product_id == products_df.product_id, \"inner\"\n",
    "    ).join(\n",
    "        categories_df, product_categories_df.category_id == categories_df.category_id, \"inner\"\n",
    "    ).select(\n",
    "        products_df.product_name, categories_df.category_name\n",
    "    )\n",
    "\n",
    "    orphan_products = products_df.join(\n",
    "        product_categories_df, products_df.product_id == product_categories_df.product_id, \"left\"\n",
    "    ).select(\n",
    "        products_df.product_name, product_categories_df.category_id\n",
    "    ).filter(col(\"category_id\").isNull()).select(\"product_name\")\n",
    "\n",
    "    return product_category_pairs, orphan_products\n",
    "\n",
    "# Пример создания датафреймов\n",
    "products_data = [(1, 'Product1'), (2, 'Product2'), (3, 'Product3')]\n",
    "categories_data = [(1, 'Category1'), (2, 'Category2')]\n",
    "product_categories_data = [(1, 1), (2, 1), (2, 2)]\n",
    "\n",
    "products_df = spark.createDataFrame(products_data, [\"product_id\", \"product_name\"])\n",
    "categories_df = spark.createDataFrame(categories_data, [\"category_id\", \"category_name\"])\n",
    "product_categories_df = spark.createDataFrame(product_categories_data, [\"product_id\", \"category_id\"])\n",
    "\n",
    "product_category_pairs, orphan_products = get_product_category_pairs_and_orphan_products(products_df, categories_df, product_categories_df)\n",
    "\n",
    "product_category_pairs.show()\n",
    "orphan_products.show()\n"
   ]
  }
 ],
 "metadata": {
  "kernelspec": {
   "display_name": "Python 3 (ipykernel)",
   "language": "python",
   "name": "python3"
  },
  "language_info": {
   "codemirror_mode": {
    "name": "ipython",
    "version": 3
   },
   "file_extension": ".py",
   "mimetype": "text/x-python",
   "name": "python",
   "nbconvert_exporter": "python",
   "pygments_lexer": "ipython3",
   "version": "3.9.13"
  }
 },
 "nbformat": 4,
 "nbformat_minor": 5
}
